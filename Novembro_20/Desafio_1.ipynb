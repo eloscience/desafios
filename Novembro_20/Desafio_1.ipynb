{
  "nbformat": 4,
  "nbformat_minor": 0,
  "metadata": {
    "colab": {
      "name": "Desafio 1",
      "provenance": []
    },
    "kernelspec": {
      "name": "python3",
      "display_name": "Python 3"
    }
  },
  "cells": [
    {
      "cell_type": "markdown",
      "metadata": {
        "id": "ItTNi4RDDIDl"
      },
      "source": [
        "<p align=\"center\"><img src=\"https://eloscience.com/wp-content/uploads/2020/10/logoebook.png\" width=\"60%\"></p>"
      ]
    },
    {
      "cell_type": "markdown",
      "metadata": {
        "id": "pEbMLnpYDPL-"
      },
      "source": [
        "# **Desafio Elo Science #1 - Marketing Bancário**\n",
        "\n",
        "---\n"
      ]
    },
    {
      "cell_type": "markdown",
      "metadata": {
        "id": "w1HZk-lVdXxv"
      },
      "source": [
        "# **O Problema**\n",
        "\n",
        "Olá Cientista de Dados! Você recentemente foi contratado por um Banco para analisar dados de vários clientes de uma campanha de marketing. O Banco quer entender seus cliente e reduzir custos ao classificar se um cliente vai aderir há um plano bancário."
      ]
    },
    {
      "cell_type": "markdown",
      "metadata": {
        "id": "X6CoYeF6dX6b"
      },
      "source": [
        "## Avaliação\n",
        "\n",
        "\\begin{equation*}\n",
        "Accurácia = \\frac{TP + TN}{TP + TN + FP + FN}\n",
        "\\end{equation*}\n",
        "<br>"
      ]
    },
    {
      "cell_type": "markdown",
      "metadata": {
        "id": "vISuhKt5dXdQ"
      },
      "source": [
        "#**Entendendo o Dataset**\n",
        "\n",
        "## Banco de dados do cliente:\n",
        "* 1 - idade (numérica)\n",
        "* 2 - trabalho: tipo de trabalho (categórico: \"admin.\", \"Desconhecido\", \"desempregado\", \"gerente\", \"empregada doméstica\", \"empresário\", \"estudante\", \"operário\", \"autônomo\", \"aposentado\", \"técnico\", \"serviços\")\n",
        "* 3 - conjugal: estado civil (categoria: \"casado\", \"divorciado\", \"solteiro\"; observação: \"divorciado\" significa divorciado ou viúvo)\n",
        "* 4 - educação (categórica: \"desconhecido\", \"secundário\", \"primário\", \"terciário\")\n",
        "* 5 - inadimplência: tem crédito inadimplente? (binário: \"sim\", \"não\")\n",
        "* 6 - saldo: saldo médio anual, em euros (numérico)\n",
        "* 7 - habitação: tem crédito habitacional? (binário: \"sim\", \"não\")\n",
        "* 8 - empréstimo: tem empréstimo pessoal? (binário: \"sim\", \"não\")\n",
        "   \n",
        "## Relacionado com o último contato da campanha atual:\n",
        "* 9 - contato: tipo de comunicação do contato (categórico: \"desconhecido\", \"telefone\", \"celular\")\n",
        "* 10 - dias: último dia de contato do mês (numérico)\n",
        "* 11 - mês: último mês de contato do ano (categórico: \"jan\", \"fev\", \"mar\", ..., \"nov\", \"dez\")\n",
        "* 12 - duração: duração do último contato, em segundos (numérico)\n",
        "   \n",
        "## Outros atributos:\n",
        "* 13 - campanha: quantidade de contatos realizados durante esta campanha e para este cliente (numérico, inclui último contato)\n",
        "* 14 - dias: número de dias que passaram após o último contato do cliente de uma campanha anterior (numérico, -1 significa que o cliente não foi contatado anteriormente)\n",
        "* 15 - anterior: número de contatos realizados antes desta campanha e para este cliente (numérico)\n",
        "* 16 - poutcome: resultado da campanha de marketing anterior (categórica: \"desconhecido\", \"outro\", \"falha\", \"sucesso\")\n",
        "\n",
        "## Variável de saída (alvo desejado):\n",
        "* 17 - y - o cliente subscreveu um depósito a prazo? (binário: \"sim\", \"não\")"
      ]
    },
    {
      "cell_type": "markdown",
      "metadata": {
        "id": "ESkJXYfOgvOT"
      },
      "source": [
        "# **Datasets**\n",
        "<b>bank-full.csv</b> - dataset para treinar e analisar <b>\n",
        "\n",
        "<b>predic_bank.csv</b> - dataset para previsão de aquisição de produto bancário"
      ]
    },
    {
      "cell_type": "markdown",
      "metadata": {
        "id": "e0SuGGZ6gvIp"
      },
      "source": [
        "# **Submissão**"
      ]
    },
    {
      "cell_type": "markdown",
      "metadata": {
        "id": "btppPcnDitgN"
      },
      "source": [
        "O arquivo deve conter as previsões feitas no arquivo predic_bank.csv e deve ter o seguinte formato:"
      ]
    },
    {
      "cell_type": "markdown",
      "metadata": {
        "id": "4OdR-vYSi1Y6"
      },
      "source": [
        "<pre>\n",
        "0\n",
        "1\n",
        "0\n",
        "0\n",
        "1\n",
        "0\n",
        "<pre>"
      ]
    },
    {
      "cell_type": "markdown",
      "metadata": {
        "id": "UCN9GNMoi-xe"
      },
      "source": [
        "## Agradecimentos\n",
        "Os dados bancários foram coletados e publicados pelo [UCI](https://archive.ics.uci.edu/ml/datasets/Bank+Marketing)"
      ]
    }
  ]
}